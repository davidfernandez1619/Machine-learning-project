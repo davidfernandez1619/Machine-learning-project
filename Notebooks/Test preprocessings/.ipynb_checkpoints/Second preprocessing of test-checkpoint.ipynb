{
 "cells": [
  {
   "cell_type": "code",
   "execution_count": 1,
   "id": "006954cb",
   "metadata": {},
   "outputs": [],
   "source": [
    "import numpy as np\n",
    "import pandas as pd\n",
    "\n",
    "import matplotlib.pyplot as plt\n",
    "from matplotlib import style\n",
    "import matplotlib.ticker as ticker\n",
    "import seaborn as sns\n",
    "\n",
    "plt.rcParams[\"figure.figsize\"] = (10,8)\n",
    "\n",
    "import warnings\n",
    "warnings.filterwarnings('ignore')\n",
    "\n",
    "import pandas as pd\n",
    "\n",
    "from sklearn.preprocessing import LabelEncoder  \n",
    "from sklearn.preprocessing import OrdinalEncoder  "
   ]
  },
  {
   "cell_type": "code",
   "execution_count": 2,
   "id": "6bcf2bb3",
   "metadata": {},
   "outputs": [],
   "source": [
    "df = pd.read_csv('/Users/davidfernandez/Desktop/diamonds/test.csv')\n"
   ]
  },
  {
   "cell_type": "markdown",
   "id": "7204075a",
   "metadata": {},
   "source": [
    "## Outliers management\n"
   ]
  },
  {
   "cell_type": "code",
   "execution_count": 4,
   "id": "ad63bd72",
   "metadata": {},
   "outputs": [],
   "source": [
    "columns = ['y', 'z']\n",
    "df = df.drop(columns, axis=1)"
   ]
  },
  {
   "cell_type": "markdown",
   "id": "7b16cc08",
   "metadata": {},
   "source": [
    "## Encoding"
   ]
  },
  {
   "cell_type": "code",
   "execution_count": 5,
   "id": "0ead9492",
   "metadata": {},
   "outputs": [],
   "source": [
    "from sklearn.preprocessing import OrdinalEncoder  \n"
   ]
  },
  {
   "cell_type": "code",
   "execution_count": 6,
   "id": "21c80661",
   "metadata": {},
   "outputs": [],
   "source": [
    "orden = ['Fair', 'Premium', 'Good', 'Very Good', 'Ideal']\n",
    "orden1 = ['J', 'I', 'H', 'G', 'F', 'D', 'E'] \n",
    "orden2 = ['SI2', 'I1', 'SI1', 'VS2', 'VS1', 'VVS2', 'VVS1', 'IF']  \n"
   ]
  },
  {
   "cell_type": "code",
   "execution_count": 7,
   "id": "44ca2398",
   "metadata": {},
   "outputs": [],
   "source": [
    "ordinal = OrdinalEncoder(categories=[orden], dtype=int)\n",
    "df['cut_encoded'] = ordinal.fit_transform(df[['cut']])\n"
   ]
  },
  {
   "cell_type": "code",
   "execution_count": 8,
   "id": "7fc7bd06",
   "metadata": {},
   "outputs": [],
   "source": [
    "ordinal = OrdinalEncoder(categories = [orden1], dtype = int)\n",
    "df['color_encoded'] = ordinal.fit_transform(df[['color']])\n"
   ]
  },
  {
   "cell_type": "code",
   "execution_count": 9,
   "id": "1974da9e",
   "metadata": {},
   "outputs": [],
   "source": [
    "ordinal = OrdinalEncoder(categories = [orden2], dtype = int)\n",
    "df['clarity_encoded'] = ordinal.fit_transform(df[['clarity']])"
   ]
  },
  {
   "cell_type": "code",
   "execution_count": 10,
   "id": "d36aef41",
   "metadata": {},
   "outputs": [],
   "source": [
    "df = df.drop(['cut', 'color', 'clarity'], axis=1)"
   ]
  },
  {
   "cell_type": "code",
   "execution_count": 13,
   "id": "f32dfea1",
   "metadata": {},
   "outputs": [],
   "source": [
    "df.to_csv('reality1.csv')\n"
   ]
  },
  {
   "cell_type": "code",
   "execution_count": null,
   "id": "93e57532",
   "metadata": {},
   "outputs": [],
   "source": []
  },
  {
   "cell_type": "code",
   "execution_count": null,
   "id": "cf1bdf0c",
   "metadata": {},
   "outputs": [],
   "source": []
  }
 ],
 "metadata": {
  "kernelspec": {
   "display_name": "Python 3 (ipykernel)",
   "language": "python",
   "name": "python3"
  },
  "language_info": {
   "codemirror_mode": {
    "name": "ipython",
    "version": 3
   },
   "file_extension": ".py",
   "mimetype": "text/x-python",
   "name": "python",
   "nbconvert_exporter": "python",
   "pygments_lexer": "ipython3",
   "version": "3.11.3"
  }
 },
 "nbformat": 4,
 "nbformat_minor": 5
}
